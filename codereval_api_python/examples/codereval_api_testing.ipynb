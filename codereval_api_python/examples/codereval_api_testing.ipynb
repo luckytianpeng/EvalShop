{
 "cells": [
  {
   "cell_type": "code",
   "execution_count": null,
   "id": "e41a0f16",
   "metadata": {},
   "outputs": [],
   "source": [
    "import json\n",
    "import time"
   ]
  },
  {
   "cell_type": "code",
   "execution_count": null,
   "id": "37aca840",
   "metadata": {},
   "outputs": [],
   "source": [
    "# results_file = '../../codereval_rest_api_server/codereval_sandbox/github/CoderEval/experimental-results/Python/Codex/Raw-sample10_Humanlabel.jsonl'\n",
    "# results_file = '../../codereval_rest_api_server/codereval_sandbox/github/CoderEval/experimental-results/Python/Codex/Raw-sample10.jsonl'\n",
    "results_file = '../../codereval_rest_api_server/codereval_sandbox/github/CoderEval/experimental-results/Python/Codex/Greedy_Humanlabel.jsonl'\n",
    "# results_file = '../../codereval_rest_api_server/codereval_sandbox/github/CoderEval/experimental-results/Python/Codex/Greedy_Raw.jsonl'\n",
    "\n",
    "results_json = json.loads(\n",
    "        '[{}]'.format(\n",
    "            ','.join(\n",
    "                list(\n",
    "                    line.rstrip() for line in \n",
    "                    open(results_file, 'r', encoding='utf-8')))))"
   ]
  },
  {
   "cell_type": "code",
   "execution_count": null,
   "id": "e651455e",
   "metadata": {},
   "outputs": [],
   "source": [
    "print(json.dumps(results_json, indent=4, sort_keys=True))"
   ]
  },
  {
   "cell_type": "markdown",
   "id": "50ffbeed",
   "metadata": {},
   "source": [
    "## Ask CoderEval REST API Server to evaluate"
   ]
  },
  {
   "cell_type": "code",
   "execution_count": null,
   "id": "a7a32998",
   "metadata": {},
   "outputs": [],
   "source": [
    "import sys\n",
    "from pathlib import Path\n",
    "\n",
    "sys.path.append(str(Path('..').resolve()))\n",
    "from codereval_api import CoderEval"
   ]
  },
  {
   "cell_type": "code",
   "execution_count": null,
   "id": "19903e92",
   "metadata": {},
   "outputs": [],
   "source": [
    "config = json.load(open('codereval_api_config.json', 'r', encoding='utf-8'))"
   ]
  },
  {
   "cell_type": "code",
   "execution_count": null,
   "id": "36e7cb1e",
   "metadata": {},
   "outputs": [],
   "source": [
    "config"
   ]
  },
  {
   "cell_type": "code",
   "execution_count": null,
   "id": "1ea5ea00",
   "metadata": {},
   "outputs": [],
   "source": [
    "s = CoderEval(config)  # Server"
   ]
  },
  {
   "cell_type": "code",
   "execution_count": null,
   "id": "b2b35968",
   "metadata": {},
   "outputs": [],
   "source": [
    "st = time.time()\n",
    "\n",
    "# results = s(testing_json['generated_codes'])\n",
    "results = s(results_json)\n",
    "\n",
    "et = time.time()\n",
    "elapsed_time = et - st"
   ]
  },
  {
   "cell_type": "code",
   "execution_count": null,
   "id": "eba5b1f7",
   "metadata": {},
   "outputs": [],
   "source": [
    "f'{elapsed_time} Seconds'"
   ]
  },
  {
   "cell_type": "code",
   "execution_count": null,
   "id": "b0f043db",
   "metadata": {
    "scrolled": false
   },
   "outputs": [],
   "source": [
    "print(json.dumps(results, indent=4, sort_keys=True))"
   ]
  },
  {
   "cell_type": "code",
   "execution_count": null,
   "id": "02f4426a",
   "metadata": {},
   "outputs": [],
   "source": [
    "total = 0\n",
    "passed = 0\n",
    "\n",
    "for sample in results['samples']:\n",
    "    for generate_result in sample['generate_results']:\n",
    "        total = total + 1\n",
    "        if generate_result['is_pass']:\n",
    "            passed = passed + 1\n",
    "        \n",
    "f'{passed}/{total}={passed/total}'"
   ]
  },
  {
   "cell_type": "code",
   "execution_count": null,
   "id": "527110cf",
   "metadata": {},
   "outputs": [],
   "source": [
    "total = 0\n",
    "passed = 0\n",
    "\n",
    "for sample in results['samples']:\n",
    "    if sample['exit_code'] == 0:\n",
    "      for generate_result in sample['generate_results']:\n",
    "          total = total + 1\n",
    "          if generate_result['is_pass']:\n",
    "              passed = passed + 1\n",
    "        \n",
    "f'{passed}/{total}={passed/total}'"
   ]
  }
 ],
 "metadata": {
  "kernelspec": {
   "display_name": "Python 3 (ipykernel)",
   "language": "python",
   "name": "python3"
  },
  "language_info": {
   "codemirror_mode": {
    "name": "ipython",
    "version": 3
   },
   "file_extension": ".py",
   "mimetype": "text/x-python",
   "name": "python",
   "nbconvert_exporter": "python",
   "pygments_lexer": "ipython3",
   "version": "3.10.6"
  }
 },
 "nbformat": 4,
 "nbformat_minor": 5
}
