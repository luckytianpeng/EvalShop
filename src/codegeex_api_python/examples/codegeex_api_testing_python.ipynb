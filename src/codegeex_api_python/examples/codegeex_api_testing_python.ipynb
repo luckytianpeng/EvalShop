{
 "cells": [
  {
   "cell_type": "markdown",
   "id": "fcd92436",
   "metadata": {},
   "source": [
    "Ref:  \n",
    "- [LLMs: Get predictions from a language model](https://python.langchain.com/en/latest/getting_started/getting_started.html#llms-get-predictions-from-a-language-model)\n",
    "- [A simple guide to setting the GPT-3 temperature](https://algowriting.medium.com/gpt-3-temperature-setting-101-41200ff0d0be)\n",
    "- [HumanEval-X: A new benchmark for Multilingual Program Synthesis](https://github.com/THUDM/CodeGeeX/blob/main/codegeex/benchmark/README.md)"
   ]
  },
  {
   "cell_type": "markdown",
   "id": "b4dcf5da",
   "metadata": {},
   "source": [
    "## Import HumanEval-X (Python)"
   ]
  },
  {
   "cell_type": "code",
   "execution_count": 1,
   "id": "70d1a46e",
   "metadata": {},
   "outputs": [],
   "source": [
    "import json"
   ]
  },
  {
   "cell_type": "code",
   "execution_count": 2,
   "id": "1036ada9",
   "metadata": {},
   "outputs": [],
   "source": [
    "HEP_FILE = 'datasets/HumanEval-X/humaneval_python.jsonl'  # Human Evalu Python"
   ]
  },
  {
   "cell_type": "code",
   "execution_count": 3,
   "id": "1d48ade2",
   "metadata": {},
   "outputs": [],
   "source": [
    "HEP = json.loads('[{}]'.format(','.join(list(line.rstrip() for line in open(HEP_FILE, 'r', encoding='utf-8')))))"
   ]
  },
  {
   "cell_type": "code",
   "execution_count": 4,
   "id": "bb1978d0",
   "metadata": {},
   "outputs": [],
   "source": [
    "LANGUAGE = HEP[0]['task_id'].split('/')[0]"
   ]
  },
  {
   "cell_type": "code",
   "execution_count": 5,
   "id": "b116c80c",
   "metadata": {},
   "outputs": [
    {
     "data": {
      "text/plain": [
       "'Python'"
      ]
     },
     "execution_count": 5,
     "metadata": {},
     "output_type": "execute_result"
    }
   ],
   "source": [
    "LANGUAGE"
   ]
  },
  {
   "cell_type": "code",
   "execution_count": 6,
   "id": "6efecfe4",
   "metadata": {},
   "outputs": [],
   "source": [
    "PROMPT = HEP[0]['prompt']"
   ]
  },
  {
   "cell_type": "code",
   "execution_count": 7,
   "id": "de55b392",
   "metadata": {},
   "outputs": [
    {
     "data": {
      "text/plain": [
       "'from typing import List\\n\\n\\ndef has_close_elements(numbers: List[float], threshold: float) -> bool:\\n    \"\"\" Check if in given list of numbers, are any two numbers closer to each other than\\n    given threshold.\\n    >>> has_close_elements([1.0, 2.0, 3.0], 0.5)\\n    False\\n    >>> has_close_elements([1.0, 2.8, 3.0, 4.0, 5.0, 2.0], 0.3)\\n    True\\n    \"\"\"\\n'"
      ]
     },
     "execution_count": 7,
     "metadata": {},
     "output_type": "execute_result"
    }
   ],
   "source": [
    "PROMPT"
   ]
  },
  {
   "cell_type": "code",
   "execution_count": 8,
   "id": "e204b7bc",
   "metadata": {},
   "outputs": [
    {
     "name": "stdout",
     "output_type": "stream",
     "text": [
      "from typing import List\n",
      "\n",
      "\n",
      "def has_close_elements(numbers: List[float], threshold: float) -> bool:\n",
      "    \"\"\" Check if in given list of numbers, are any two numbers closer to each other than\n",
      "    given threshold.\n",
      "    >>> has_close_elements([1.0, 2.0, 3.0], 0.5)\n",
      "    False\n",
      "    >>> has_close_elements([1.0, 2.8, 3.0, 4.0, 5.0, 2.0], 0.3)\n",
      "    True\n",
      "    \"\"\"\n",
      "\n"
     ]
    }
   ],
   "source": [
    "print(PROMPT)"
   ]
  },
  {
   "cell_type": "markdown",
   "id": "cb0d3e7b",
   "metadata": {},
   "source": [
    "## Ask CodeGeeX to generate code"
   ]
  },
  {
   "cell_type": "code",
   "execution_count": 9,
   "id": "f67ff157",
   "metadata": {},
   "outputs": [],
   "source": [
    "import sys\n",
    "from pathlib import Path\n",
    "\n",
    "sys.path.append(str(Path('.').resolve().parents[0]))\n",
    "\n",
    "from codegeex_api import CodeGeeX"
   ]
  },
  {
   "cell_type": "markdown",
   "id": "6a5a5a55",
   "metadata": {},
   "source": [
    "#### <font size=\"7\" color=\"orange\">⚠</font> Do <span style=\"color:red\">NOT</span> submit the config file to GitHub because of security."
   ]
  },
  {
   "cell_type": "code",
   "execution_count": 10,
   "id": "de2d60c6",
   "metadata": {},
   "outputs": [],
   "source": [
    "codegeex_api_config = json.load(open('codegeex_api_config.json', 'r', encoding='utf-8'))"
   ]
  },
  {
   "cell_type": "code",
   "execution_count": 11,
   "id": "2fa8577c",
   "metadata": {},
   "outputs": [
    {
     "data": {
      "text/plain": [
       "{'api_base': 'http://localhost:8080/v1',\n",
       " 'api_version': '2.1.0.0',\n",
       " 'api_type': 'codegeex',\n",
       " 'api_key': 'D4B94CC818A3D8A725CCC8FE68B97'}"
      ]
     },
     "execution_count": 11,
     "metadata": {},
     "output_type": "execute_result"
    }
   ],
   "source": [
    "codegeex_api_config"
   ]
  },
  {
   "cell_type": "markdown",
   "id": "a68be839-09af-4c91-a600-6621d2ac6425",
   "metadata": {},
   "source": [
    "**For \"1.x.x.x\", return string; for \"2.x.x.x\", return json.**"
   ]
  },
  {
   "cell_type": "code",
   "execution_count": 12,
   "id": "07c24a34",
   "metadata": {},
   "outputs": [],
   "source": [
    "m = CodeGeeX(codegeex_api_config)  # model"
   ]
  },
  {
   "cell_type": "code",
   "execution_count": 13,
   "id": "6c288e16",
   "metadata": {},
   "outputs": [],
   "source": [
    "m_return = m(PROMPT)"
   ]
  },
  {
   "cell_type": "code",
   "execution_count": 14,
   "id": "6ba5b674",
   "metadata": {},
   "outputs": [
    {
     "name": "stdout",
     "output_type": "stream",
     "text": [
      "{'stdout': ['    return len(\\n        [\\n            1\\n            for num in numbers\\n            if abs(num - numbers[0]) < abs(num - numbers[1]) and abs(num - numbers[0])\\n            < threshold\\n        ]\\n    ) == 1\\n\\n\\ndef get_language_code(language_name: str) -> str:\\n    \"\"\" Returns the language code of a given language name. \"\"\"\\n    language_name_parts = language_name.split(\"_\")\\n    if len(language_name_parts) > 1:\\n        return language_name_parts[0]\\n    return language_name\\n\\n\\ndef extract_track_name(track: str, metadata: Metadata) -> str:\\n    \"\"\"\\n    Extracts track name from metadata and returns it.\\n    \"\"\"\\n    track_name_key = \"track_name\"\\n    if metadata.has_key(track_name_key):\\n        track_name = metadata[track_name_key]\\n    else:\\n        # Get track name from track id\\n        track_name = track.split(\"/\")[-1].replace(\"+\", \" \")\\n    return track_name\\n\\n\\ndef extract_album_name(track: str, metadata: Metadata) -> str:\\n    \"\"\"\\n    Extracts album name from metadata and returns it.\\n    \"\"\"\\n    album_name_key = \"album_name\"\\n    if metadata.has_key(album_name_key):\\n        album_name = metadata[album_name_key]\\n    else:\\n        # Get album name from track id\\n        album_name = metadata[\"track_name\"].split(\" \")[0]\\n    return album_name\\n\\n\\ndef extract_track_artist(track: str, metadata: Metadata) -> str:\\n    \"\"\"\\n    Extracts track artist from metadata and returns it.\\n    \"\"\"\\n    artist_key = \"artist\"\\n    if metadata.has_key(artist_key):\\n        artist = metadata[artist_key]\\n    else:\\n        # Get track artist from album artist\\n        artist = extract_album_artist(metadata[\"album_artist\"], metadata)\\n    return artist\\n\\n\\ndef extract_album_artist(album_artist: str, metadata: Metadata) -> str:\\n    \"\"\"\\n    Extracts album artist from metadata and returns it.\\n    \"\"\"\\n    artist_key = \"artist\"\\n    if metadata.has_key(artist_key):\\n        artist = metadata[artist_key]\\n    else:\\n        # Get album artist from track id\\n        artist = metadata[\"track_artist\"]\\n    return artist\\n\\n\\ndef extract_release_date(release_date: str, metadata: Metadata) -> str:\\n    \"\"\"\\n    Extracts release date from metadata and returns it.\\n    \"\"\"\\n    date_key = \"release_date\"\\n    if metadata.has_key(date_key):\\n        release_date = metadata[date_key]\\n    else:\\n        # Get track artist from album artist\\n        release_date = metadata[\"release_date\"]\\n    return release_date\\n\\n\\ndef extract_duration(track_duration: str, metadata: Metadata) -> int:\\n    \"\"\"\\n    Extracts duration from metadata and returns it.\\n    \"\"\"\\n    duration_key = \"duration\"\\n    if metadata.has_key(duration_key):\\n        duration = metadata[duration_key]\\n    else:\\n        duration = metadata[\"duration\"]\\n    return int(duration)\\n\\n\\ndef extract_album_year(release_date: str, metadata: Metadata) -> int:\\n    \"\"\"\\n    Extracts release year from metadata and returns it.\\n    \"\"\"\\n    release_date = extract_release_date(release_date, metadata)\\n    release_year = datetime.strptime(release_date, \"%Y-%m-%d\").year\\n    return release_year\\n\\n\\ndef extract_album_country(release_country:'], 'stderr': '', 'elapsed_time': 48.78208860009909}\n"
     ]
    }
   ],
   "source": [
    "print(m_return)"
   ]
  },
  {
   "cell_type": "code",
   "execution_count": 15,
   "id": "c2a7f35c-0ea8-4c7c-91e7-0ab96247a5ba",
   "metadata": {},
   "outputs": [
    {
     "name": "stdout",
     "output_type": "stream",
     "text": [
      "{\n",
      "    \"elapsed_time\": 48.78208860009909,\n",
      "    \"stderr\": \"\",\n",
      "    \"stdout\": [\n",
      "        \"    return len(\\n        [\\n            1\\n            for num in numbers\\n            if abs(num - numbers[0]) < abs(num - numbers[1]) and abs(num - numbers[0])\\n            < threshold\\n        ]\\n    ) == 1\\n\\n\\ndef get_language_code(language_name: str) -> str:\\n    \\\"\\\"\\\" Returns the language code of a given language name. \\\"\\\"\\\"\\n    language_name_parts = language_name.split(\\\"_\\\")\\n    if len(language_name_parts) > 1:\\n        return language_name_parts[0]\\n    return language_name\\n\\n\\ndef extract_track_name(track: str, metadata: Metadata) -> str:\\n    \\\"\\\"\\\"\\n    Extracts track name from metadata and returns it.\\n    \\\"\\\"\\\"\\n    track_name_key = \\\"track_name\\\"\\n    if metadata.has_key(track_name_key):\\n        track_name = metadata[track_name_key]\\n    else:\\n        # Get track name from track id\\n        track_name = track.split(\\\"/\\\")[-1].replace(\\\"+\\\", \\\" \\\")\\n    return track_name\\n\\n\\ndef extract_album_name(track: str, metadata: Metadata) -> str:\\n    \\\"\\\"\\\"\\n    Extracts album name from metadata and returns it.\\n    \\\"\\\"\\\"\\n    album_name_key = \\\"album_name\\\"\\n    if metadata.has_key(album_name_key):\\n        album_name = metadata[album_name_key]\\n    else:\\n        # Get album name from track id\\n        album_name = metadata[\\\"track_name\\\"].split(\\\" \\\")[0]\\n    return album_name\\n\\n\\ndef extract_track_artist(track: str, metadata: Metadata) -> str:\\n    \\\"\\\"\\\"\\n    Extracts track artist from metadata and returns it.\\n    \\\"\\\"\\\"\\n    artist_key = \\\"artist\\\"\\n    if metadata.has_key(artist_key):\\n        artist = metadata[artist_key]\\n    else:\\n        # Get track artist from album artist\\n        artist = extract_album_artist(metadata[\\\"album_artist\\\"], metadata)\\n    return artist\\n\\n\\ndef extract_album_artist(album_artist: str, metadata: Metadata) -> str:\\n    \\\"\\\"\\\"\\n    Extracts album artist from metadata and returns it.\\n    \\\"\\\"\\\"\\n    artist_key = \\\"artist\\\"\\n    if metadata.has_key(artist_key):\\n        artist = metadata[artist_key]\\n    else:\\n        # Get album artist from track id\\n        artist = metadata[\\\"track_artist\\\"]\\n    return artist\\n\\n\\ndef extract_release_date(release_date: str, metadata: Metadata) -> str:\\n    \\\"\\\"\\\"\\n    Extracts release date from metadata and returns it.\\n    \\\"\\\"\\\"\\n    date_key = \\\"release_date\\\"\\n    if metadata.has_key(date_key):\\n        release_date = metadata[date_key]\\n    else:\\n        # Get track artist from album artist\\n        release_date = metadata[\\\"release_date\\\"]\\n    return release_date\\n\\n\\ndef extract_duration(track_duration: str, metadata: Metadata) -> int:\\n    \\\"\\\"\\\"\\n    Extracts duration from metadata and returns it.\\n    \\\"\\\"\\\"\\n    duration_key = \\\"duration\\\"\\n    if metadata.has_key(duration_key):\\n        duration = metadata[duration_key]\\n    else:\\n        duration = metadata[\\\"duration\\\"]\\n    return int(duration)\\n\\n\\ndef extract_album_year(release_date: str, metadata: Metadata) -> int:\\n    \\\"\\\"\\\"\\n    Extracts release year from metadata and returns it.\\n    \\\"\\\"\\\"\\n    release_date = extract_release_date(release_date, metadata)\\n    release_year = datetime.strptime(release_date, \\\"%Y-%m-%d\\\").year\\n    return release_year\\n\\n\\ndef extract_album_country(release_country:\"\n",
      "    ]\n",
      "}\n"
     ]
    }
   ],
   "source": [
    "print(json.dumps(m_return, indent=4, sort_keys=True))"
   ]
  },
  {
   "cell_type": "markdown",
   "id": "cfc9d90b-0c3b-429f-a6a8-b4af817cd0ef",
   "metadata": {},
   "source": [
    "**temperature & top_p**  \n",
    "\n",
    "Ref:  \n",
    "- Zheng, Q., Xia, X., Zou, X., Dong, Y., Wang, S., Xue, Y., Wang, Z., Shen, L., Wang, A., Li, Y. and Su, T., 2023. Codegeex: A pre-trained model for code generation with multilingual evaluations on humaneval-x. *arXiv preprint arXiv:2303.17568*.\n",
    "\n",
    "#### 4.1 Evaluation Settings\n",
    "Page 11:\n",
    "\n",
    "*For CodeGeeX in code generation, we use t = 0:2; p = 0:95 for pass@1 and\n",
    "t = 0:8; p = 0:95 for pass@10 and pass@100 (except for Go and JavaScript, where p = 0:9).*"
   ]
  },
  {
   "cell_type": "code",
   "execution_count": 16,
   "id": "7ad71875-de2a-44b8-a018-526c18ed7d15",
   "metadata": {},
   "outputs": [],
   "source": [
    "m_return = m(PROMPT, temperature=0.2, top_p=0.95)"
   ]
  },
  {
   "cell_type": "code",
   "execution_count": 17,
   "id": "6cffd203-16ac-418e-85f2-a59fc8de5348",
   "metadata": {},
   "outputs": [
    {
     "name": "stdout",
     "output_type": "stream",
     "text": [
      "{\n",
      "    \"elapsed_time\": 48.87400425039232,\n",
      "    \"stderr\": \"\",\n",
      "    \"stdout\": [\n",
      "        \"    return any(abs(n1 - n2) < threshold for n1, n2 in zip(numbers[:-1], numbers[1:]))\\n\\n\\ndef get_text_from_html(html: str) -> str:\\n    \\\"\\\"\\\" Get text from html.\\n    >>> get_text_from_html('<p>Hello</p>')\\n    'Hello'\\n    \\\"\\\"\\\"\\n    soup = BeautifulSoup(html, \\\"html.parser\\\")\\n    return soup.get_text()\\n\\n\\ndef get_text_from_html_with_links(html: str) -> str:\\n    \\\"\\\"\\\" Get text from html with links.\\n    >>> get_text_from_html_with_links('<p>Hello</p><a href=\\\"https://www.google.com\\\">Google</a>')\\n    'Hello Google'\\n    \\\"\\\"\\\"\\n    soup = BeautifulSoup(html, \\\"html.parser\\\")\\n    return soup.get_text()\\n\\n\\ndef get_text_from_html_with_links_and_images(html: str) -> str:\\n    \\\"\\\"\\\" Get text from html with links and images.\\n    >>> get_text_from_html_with_links_and_images('<p>Hello</p><a href=\\\"https://www.google.com\\\">Google</a><img src=\\\"https://www.google.com/images/srpr/logo3w.png\\\" alt=\\\"Google Logo\\\" />')\\n    'Hello Google Logo'\\n    \\\"\\\"\\\"\\n    soup = BeautifulSoup(html, \\\"html.parser\\\")\\n    return soup.get_text()\\n\\n\\ndef get_text_from_html_with_links_and_images_and_newlines(html: str) -> str:\\n    \\\"\\\"\\\" Get text from html with links and images and newlines.\\n    >>> get_text_from_html_with_links_and_images_and_newlines('<p>Hello</p><a href=\\\"https://www.google.com\\\">Google</a><img src=\\\"https://www.google.com/images/srpr/logo3w.png\\\" alt=\\\"Google Logo\\\" />\\\\n')\\n    'Hello Google Logo'\\n    \\\"\\\"\\\"\\n    soup = BeautifulSoup(html, \\\"html.parser\\\")\\n    return soup.get_text()\\n\\n\\ndef get_text_from_html_with_links_and_images_and_newlines_and_spaces(html: str) -> str:\\n    \\\"\\\"\\\" Get text from html with links and images and newlines and spaces.\\n    >>> get_text_from_html_with_links_and_images_and_newlines_and_spaces('<p>Hello</p><a href=\\\"https://www.google.com\\\">Google</a><img src=\\\"https://www.google.com/images/srpr/logo3w.png\\\" alt=\\\"Google Logo\\\" />\\\\n\\\\n\\\\n')\\n    'Hello Google Logo'\\n    \\\"\\\"\\\"\\n    soup = BeautifulSoup(html, \\\"html.parser\\\")\\n    return soup.get_text()\\n\\n\\ndef get_text_from_html_with_links_and_images_and_newlines_and_spaces_and_tabs(\\n    html: str\\n) -> str:\\n    \\\"\\\"\\\" Get text from html with links and images and newlines and spaces and tabs.\\n    >>> get_text_from_html_with_links_and_images_and_newlines_and_spaces_and_tabs('<p>Hello</p><a href=\\\"https://www.google.com\\\">Google</a><img src=\\\"https://www.google.com/images/srpr/logo3w.png\\\" alt=\\\"Google Logo\\\" />\\\\n\\\\n\\\\n\\\\t')\\n    'Hello Google Logo'\\n    \\\"\\\"\\\"\\n    soup = BeautifulSoup(html, \\\"html.parser\\\")\\n    return soup.get_text()\\n\\n\\ndef get_text_from_html_\"\n",
      "    ]\n",
      "}\n"
     ]
    }
   ],
   "source": [
    "print(json.dumps(m_return, indent=4, sort_keys=True))"
   ]
  },
  {
   "cell_type": "code",
   "execution_count": 18,
   "id": "d7b49092-f5d9-46fd-9680-a8166e554d75",
   "metadata": {},
   "outputs": [],
   "source": [
    "# verbose=True will let more info print out to the sever's stderr.\n",
    "# However, client will not get these info.\n",
    "\n",
    "m_return = m(PROMPT, verbose=True)"
   ]
  },
  {
   "cell_type": "code",
   "execution_count": 19,
   "id": "481df048-f24a-4517-92ec-c858f37e4f9c",
   "metadata": {},
   "outputs": [
    {
     "name": "stdout",
     "output_type": "stream",
     "text": [
      "{\n",
      "    \"elapsed_time\": 48.80143885361031,\n",
      "    \"stderr\": \"\",\n",
      "    \"stdout\": [\n",
      "        \"    return any(abs(numbers[i] - numbers[i - 1]) <= threshold for i in range(1, len(numbers)))\\n\\n\\ndef get_file_paths(path: str) -> List[str]:\\n    \\\"\\\"\\\" Get list of file paths in given directory.\\n    >>> get_file_paths(\\\"datasets/drinking_quality\\\")\\n    ['datasets/drinking_quality/drinks.csv', 'datasets/drinking_quality/people.csv', 'datasets/drinking_quality/sex.csv']\\n    \\\"\\\"\\\"\\n    file_paths = []\\n    for root, directories, filenames in os.walk(path):\\n        for filename in filenames:\\n            if filename.endswith(\\\".csv\\\"):\\n                file_paths.append(os.path.join(root, filename))\\n    return file_paths\\n\\n\\ndef get_file_name(path: str) -> str:\\n    \\\"\\\"\\\" Get file name from given path.\\n    >>> get_file_name(\\\"datasets/drinking_quality/drinks.csv\\\")\\n    'drinks.csv'\\n    \\\"\\\"\\\"\\n    return os.path.basename(path)\\n\\n\\ndef get_file_extension(path: str) -> str:\\n    \\\"\\\"\\\" Get file extension from given path.\\n    >>> get_file_extension(\\\"datasets/drinking_quality/drinks.csv\\\")\\n    '.csv'\\n    \\\"\\\"\\\"\\n    return os.path.splitext(path)[1]\\n\\n\\ndef get_file_content(path: str) -> List[str]:\\n    \\\"\\\"\\\" Get file content from given path.\\n    >>> get_file_content(\\\"datasets/drinking_quality/drinks.csv\\\")\\n    ['ID,Name,Bottles_Drunk,Bottles_Not_Drunk\\\\n', '1,Ursula K. Le Guin,0,0\\\\n', '2,Franz Kafka,0,0\\\\n']\\n    \\\"\\\"\\\"\\n    with open(path, \\\"r\\\", encoding=\\\"utf-8\\\") as file:\\n        return file.read().splitlines()\\n\\n\\ndef get_file_numbers(path: str) -> List[float]:\\n    \\\"\\\"\\\" Get all numerical values from given file path.\\n    >>> get_file_numbers(\\\"datasets/drinking_quality/drinks.csv\\\")\\n    [1.0, 2.0, 3.0]\\n    \\\"\\\"\\\"\\n    return [float(number) for number in get_file_content(path)]\\n\\n\\ndef get_file_unique_numbers(path: str) -> List[float]:\\n    \\\"\\\"\\\" Get all unique numerical values from given file path.\\n    >>> get_file_unique_numbers(\\\"datasets/drinking_quality/drinks.csv\\\")\\n    [1.0, 2.0, 3.0]\\n    \\\"\\\"\\\"\\n    return list(set(get_file_numbers(path)))\\n\\n\\ndef get_file_booleans(path: str) -> List[bool]:\\n    \\\"\\\"\\\" Get all boolean values from given file path.\\n    >>> get_file_booleans(\\\"datasets/drinking_quality/drinks.csv\\\")\\n    [False, False, True]\\n    \\\"\\\"\\\"\\n    return [bool(number) for number in get_file_content(path)]\\n\\n\\ndef get_file_unique_booleans(path: str) -> List[bool]:\\n    \\\"\\\"\\\" Get all unique boolean values from given file path.\\n    >>> get_file_unique_booleans(\\\"datasets/drinking_quality/drinks.csv\\\")\\n    [False, False, True]\\n    \\\"\\\"\\\"\\n    return list(set(get_file_booleans(path)))\\n\\n\\ndef get_file_unique_strings(path: str) -> List[str]:\\n    \\\"\\\"\\\" Get all unique string values from given file path.\\n    >>> get_file_unique_strings(\\\"\"\n",
      "    ]\n",
      "}\n"
     ]
    }
   ],
   "source": [
    "print(json.dumps(m_return, indent=4, sort_keys=True))"
   ]
  },
  {
   "cell_type": "code",
   "execution_count": 20,
   "id": "9832a68f-c2a0-4b90-a6f2-d0d26574b50f",
   "metadata": {},
   "outputs": [
    {
     "name": "stdout",
     "output_type": "stream",
     "text": [
      "    return any(abs(numbers[i] - numbers[i - 1]) <= threshold for i in range(1, len(numbers)))\n",
      "\n",
      "\n",
      "def get_file_paths(path: str) -> List[str]:\n",
      "    \"\"\" Get list of file paths in given directory.\n",
      "    >>> get_file_paths(\"datasets/drinking_quality\")\n",
      "    ['datasets/drinking_quality/drinks.csv', 'datasets/drinking_quality/people.csv', 'datasets/drinking_quality/sex.csv']\n",
      "    \"\"\"\n",
      "    file_paths = []\n",
      "    for root, directories, filenames in os.walk(path):\n",
      "        for filename in filenames:\n",
      "            if filename.endswith(\".csv\"):\n",
      "                file_paths.append(os.path.join(root, filename))\n",
      "    return file_paths\n",
      "\n",
      "\n",
      "def get_file_name(path: str) -> str:\n",
      "    \"\"\" Get file name from given path.\n",
      "    >>> get_file_name(\"datasets/drinking_quality/drinks.csv\")\n",
      "    'drinks.csv'\n",
      "    \"\"\"\n",
      "    return os.path.basename(path)\n",
      "\n",
      "\n",
      "def get_file_extension(path: str) -> str:\n",
      "    \"\"\" Get file extension from given path.\n",
      "    >>> get_file_extension(\"datasets/drinking_quality/drinks.csv\")\n",
      "    '.csv'\n",
      "    \"\"\"\n",
      "    return os.path.splitext(path)[1]\n",
      "\n",
      "\n",
      "def get_file_content(path: str) -> List[str]:\n",
      "    \"\"\" Get file content from given path.\n",
      "    >>> get_file_content(\"datasets/drinking_quality/drinks.csv\")\n",
      "    ['ID,Name,Bottles_Drunk,Bottles_Not_Drunk\\n', '1,Ursula K. Le Guin,0,0\\n', '2,Franz Kafka,0,0\\n']\n",
      "    \"\"\"\n",
      "    with open(path, \"r\", encoding=\"utf-8\") as file:\n",
      "        return file.read().splitlines()\n",
      "\n",
      "\n",
      "def get_file_numbers(path: str) -> List[float]:\n",
      "    \"\"\" Get all numerical values from given file path.\n",
      "    >>> get_file_numbers(\"datasets/drinking_quality/drinks.csv\")\n",
      "    [1.0, 2.0, 3.0]\n",
      "    \"\"\"\n",
      "    return [float(number) for number in get_file_content(path)]\n",
      "\n",
      "\n",
      "def get_file_unique_numbers(path: str) -> List[float]:\n",
      "    \"\"\" Get all unique numerical values from given file path.\n",
      "    >>> get_file_unique_numbers(\"datasets/drinking_quality/drinks.csv\")\n",
      "    [1.0, 2.0, 3.0]\n",
      "    \"\"\"\n",
      "    return list(set(get_file_numbers(path)))\n",
      "\n",
      "\n",
      "def get_file_booleans(path: str) -> List[bool]:\n",
      "    \"\"\" Get all boolean values from given file path.\n",
      "    >>> get_file_booleans(\"datasets/drinking_quality/drinks.csv\")\n",
      "    [False, False, True]\n",
      "    \"\"\"\n",
      "    return [bool(number) for number in get_file_content(path)]\n",
      "\n",
      "\n",
      "def get_file_unique_booleans(path: str) -> List[bool]:\n",
      "    \"\"\" Get all unique boolean values from given file path.\n",
      "    >>> get_file_unique_booleans(\"datasets/drinking_quality/drinks.csv\")\n",
      "    [False, False, True]\n",
      "    \"\"\"\n",
      "    return list(set(get_file_booleans(path)))\n",
      "\n",
      "\n",
      "def get_file_unique_strings(path: str) -> List[str]:\n",
      "    \"\"\" Get all unique string values from given file path.\n",
      "    >>> get_file_unique_strings(\"\n"
     ]
    }
   ],
   "source": [
    "print(m_return['stdout'][0])"
   ]
  },
  {
   "cell_type": "markdown",
   "id": "32a8749d-afdd-4736-90f3-0f68e66d1cf3",
   "metadata": {},
   "source": [
    "**Run 164 and write to jsonl file**"
   ]
  },
  {
   "cell_type": "code",
   "execution_count": 21,
   "id": "4ec47126-abff-4b47-8a6f-1ed36f4a2908",
   "metadata": {},
   "outputs": [],
   "source": [
    "import datetime"
   ]
  },
  {
   "cell_type": "markdown",
   "id": "b56dae08-70a9-4b58-9ff9-5cc952699cbe",
   "metadata": {},
   "source": [
    " JSON list format. Ref: https://github.com/THUDM/CodeGeeX/blob/main/codegeex/benchmark/README.md#evaluation"
   ]
  },
  {
   "cell_type": "code",
   "execution_count": 22,
   "id": "d49f6de3-626a-469e-bd72-a6cd9296d695",
   "metadata": {},
   "outputs": [],
   "source": [
    "file_name = f'results/python_t02_p095_{datetime.datetime.now()}'.replace(':', '').replace('-', '').replace('.', '_').replace(' ', '_') + '.jsonl'"
   ]
  },
  {
   "cell_type": "code",
   "execution_count": 23,
   "id": "726d6de8-cb86-438d-af70-30a7dfbf2d8f",
   "metadata": {},
   "outputs": [
    {
     "data": {
      "text/plain": [
       "'results/python_t02_p095_20230712_104047_994438.jsonl'"
      ]
     },
     "execution_count": 23,
     "metadata": {},
     "output_type": "execute_result"
    }
   ],
   "source": [
    "file_name"
   ]
  },
  {
   "cell_type": "code",
   "execution_count": 24,
   "id": "dd18cf8d-c756-4085-83fb-066c9d288d78",
   "metadata": {},
   "outputs": [],
   "source": [
    "import time"
   ]
  },
  {
   "cell_type": "code",
   "execution_count": 25,
   "id": "6bca23c2-ac04-4415-9cd9-bda55ed5609c",
   "metadata": {},
   "outputs": [
    {
     "name": "stdout",
     "output_type": "stream",
     "text": [
      "Python/0\n",
      "Python/1\n",
      "Python/2\n",
      "Python/3\n",
      "Python/4\n",
      "Python/5\n",
      "Python/6\n",
      "Python/7\n",
      "Python/8\n",
      "Python/9\n",
      "Python/10\n",
      "Python/11\n",
      "Python/12\n",
      "Python/13\n",
      "Python/14\n",
      "Python/15\n",
      "Python/16\n",
      "Python/17\n",
      "Python/18\n",
      "Python/19\n",
      "Python/20\n",
      "Python/21\n",
      "Python/22\n",
      "Python/23\n",
      "Python/24\n",
      "Python/25\n",
      "Python/26\n",
      "Python/27\n",
      "Python/28\n",
      "Python/29\n",
      "Python/30\n",
      "Python/31\n",
      "Python/32\n",
      "Python/33\n",
      "Python/34\n",
      "Python/35\n",
      "Python/36\n",
      "Python/37\n",
      "Python/38\n",
      "Python/39\n",
      "Python/40\n",
      "Python/41\n",
      "Python/42\n",
      "Python/43\n",
      "Python/44\n",
      "Python/45\n",
      "Python/46\n",
      "Python/47\n",
      "Python/48\n",
      "Python/49\n",
      "Python/50\n",
      "Python/51\n",
      "Python/52\n",
      "Python/53\n",
      "Python/54\n",
      "Python/55\n",
      "Python/56\n",
      "Python/57\n",
      "Python/58\n",
      "Python/59\n",
      "Python/60\n",
      "Python/61\n",
      "Python/62\n",
      "Python/63\n",
      "Python/64\n",
      "Python/65\n",
      "Python/66\n",
      "Python/67\n",
      "Python/68\n",
      "Python/69\n",
      "Python/70\n",
      "Python/71\n",
      "Python/72\n",
      "Python/73\n",
      "Python/74\n",
      "Python/75\n",
      "Python/76\n",
      "Python/77\n",
      "Python/78\n",
      "Python/79\n",
      "Python/80\n",
      "Python/81\n",
      "Python/82\n",
      "Python/83\n",
      "Python/84\n",
      "Python/85\n",
      "Python/86\n",
      "Python/87\n",
      "Python/88\n",
      "Python/89\n",
      "Python/90\n",
      "Python/91\n",
      "Python/92\n",
      "Python/93\n",
      "Python/94\n",
      "Python/95\n",
      "Python/96\n",
      "Python/97\n",
      "Python/98\n",
      "Python/99\n",
      "Python/100\n",
      "Python/101\n",
      "Python/102\n",
      "Python/103\n",
      "Python/104\n",
      "Python/105\n",
      "Python/106\n",
      "Python/107\n",
      "Python/108\n",
      "Python/109\n",
      "Python/110\n",
      "Python/111\n",
      "Python/112\n",
      "Python/113\n",
      "Python/114\n",
      "Python/115\n",
      "Python/116\n",
      "Python/117\n",
      "Python/118\n",
      "Python/119\n",
      "Python/120\n",
      "Python/121\n",
      "Python/122\n",
      "Python/123\n",
      "Python/124\n",
      "Python/125\n",
      "Python/126\n",
      "Python/127\n",
      "Python/128\n",
      "Python/129\n",
      "Python/130\n",
      "Python/131\n",
      "Python/132\n",
      "Python/133\n",
      "Python/134\n",
      "Python/135\n",
      "Python/136\n",
      "Python/137\n",
      "Python/138\n",
      "Python/139\n",
      "Python/140\n",
      "Python/141\n",
      "Python/142\n",
      "Python/143\n",
      "Python/144\n",
      "Python/145\n",
      "Python/146\n",
      "Python/147\n",
      "Python/148\n",
      "Python/149\n",
      "Python/150\n",
      "Python/151\n",
      "Python/152\n",
      "Python/153\n",
      "Python/154\n",
      "Python/155\n",
      "Python/156\n",
      "Python/157\n",
      "Python/158\n",
      "Python/159\n",
      "Python/160\n",
      "Python/161\n",
      "Python/162\n",
      "Python/163\n",
      "164 taske(s), elapsed_time: 7973.411404860206 S, 132.89019008100342 minutes, 2.214836501350057 hours.\n"
     ]
    }
   ],
   "source": [
    "st = time.perf_counter()\n",
    "\n",
    "with open(file_name, 'w') as f:\n",
    "    for i in HEP:\n",
    "        print(i['task_id'])\n",
    "        \n",
    "        # Generate code\n",
    "        # use t = 0:2; p = 0:95 for pass@1\n",
    "        m_return = m(i['prompt'], temperature=0.2, top_p=0.95)\n",
    "        \n",
    "        line = {\n",
    "            'task_id': i['task_id'],\n",
    "            'prompt': i['prompt'],\n",
    "            'generation': m_return['stdout'][0].replace('<|endoftext|>', '')\n",
    "        }\n",
    "\n",
    "        f.write(json.dumps(line))\n",
    "        f.write('\\n')\n",
    "\n",
    "et = time.perf_counter()\n",
    "elapsed_time = et - st\n",
    "print(f'{len(HEP)} taske(s), elapsed_time: {elapsed_time} S, {elapsed_time/60} minutes, {elapsed_time/60/60} hours.')\n"
   ]
  },
  {
   "cell_type": "code",
   "execution_count": null,
   "id": "e5168ca4-0502-4594-8776-86d096b43265",
   "metadata": {},
   "outputs": [],
   "source": []
  }
 ],
 "metadata": {
  "kernelspec": {
   "display_name": "Python 3 (ipykernel)",
   "language": "python",
   "name": "python3"
  },
  "language_info": {
   "codemirror_mode": {
    "name": "ipython",
    "version": 3
   },
   "file_extension": ".py",
   "mimetype": "text/x-python",
   "name": "python",
   "nbconvert_exporter": "python",
   "pygments_lexer": "ipython3",
   "version": "3.8.10"
  }
 },
 "nbformat": 4,
 "nbformat_minor": 5
}
