{
 "cells": [
  {
   "cell_type": "markdown",
   "id": "fcd92436",
   "metadata": {},
   "source": [
    "Ref:  \n",
    "- [LLMs: Get predictions from a language model](https://python.langchain.com/en/latest/getting_started/getting_started.html#llms-get-predictions-from-a-language-model)\n",
    "- [A simple guide to setting the GPT-3 temperature](https://algowriting.medium.com/gpt-3-temperature-setting-101-41200ff0d0be)\n",
    "- [HumanEval-X: A new benchmark for Multilingual Program Synthesis](https://github.com/THUDM/CodeGeeX/blob/main/codegeex/benchmark/README.md)"
   ]
  },
  {
   "cell_type": "markdown",
   "id": "b4dcf5da",
   "metadata": {},
   "source": [
    "## Import HumanEval-X (Java)"
   ]
  },
  {
   "cell_type": "code",
   "execution_count": 1,
   "id": "70d1a46e",
   "metadata": {},
   "outputs": [],
   "source": [
    "import json"
   ]
  },
  {
   "cell_type": "code",
   "execution_count": 2,
   "id": "1036ada9",
   "metadata": {},
   "outputs": [],
   "source": [
    "HEP_FILE = 'datasets/HumanEval-X/humaneval_java.jsonl'  # Human Evalu Python"
   ]
  },
  {
   "cell_type": "code",
   "execution_count": 3,
   "id": "1d48ade2",
   "metadata": {},
   "outputs": [],
   "source": [
    "HEP = json.loads('[{}]'.format(','.join(list(line.rstrip() for line in open(HEP_FILE, 'r', encoding='utf-8')))))"
   ]
  },
  {
   "cell_type": "code",
   "execution_count": 4,
   "id": "bb1978d0",
   "metadata": {},
   "outputs": [],
   "source": [
    "LANGUAGE = HEP[0]['task_id'].split('/')[0]"
   ]
  },
  {
   "cell_type": "code",
   "execution_count": 5,
   "id": "b116c80c",
   "metadata": {},
   "outputs": [
    {
     "data": {
      "text/plain": [
       "'Java'"
      ]
     },
     "execution_count": 5,
     "metadata": {},
     "output_type": "execute_result"
    }
   ],
   "source": [
    "LANGUAGE"
   ]
  },
  {
   "cell_type": "code",
   "execution_count": 6,
   "id": "6efecfe4",
   "metadata": {},
   "outputs": [],
   "source": [
    "PROMPT = HEP[0]['prompt']"
   ]
  },
  {
   "cell_type": "code",
   "execution_count": 7,
   "id": "de55b392",
   "metadata": {},
   "outputs": [
    {
     "data": {
      "text/plain": [
       "'import java.util.*;\\nimport java.lang.*;\\n\\nclass Solution {\\n    /**\\n    Check if in given list of numbers, are any two numbers closer to each other than given threshold.\\n    >>> hasCloseElements(Arrays.asList(1.0, 2.0, 3.0), 0.5)\\n    false\\n    >>> hasCloseElements(Arrays.asList(1.0, 2.8, 3.0, 4.0, 5.0, 2.0), 0.3)\\n    true\\n     */\\n    public boolean hasCloseElements(List<Double> numbers, double threshold) {\\n'"
      ]
     },
     "execution_count": 7,
     "metadata": {},
     "output_type": "execute_result"
    }
   ],
   "source": [
    "PROMPT"
   ]
  },
  {
   "cell_type": "code",
   "execution_count": 8,
   "id": "e204b7bc",
   "metadata": {},
   "outputs": [
    {
     "name": "stdout",
     "output_type": "stream",
     "text": [
      "import java.util.*;\n",
      "import java.lang.*;\n",
      "\n",
      "class Solution {\n",
      "    /**\n",
      "    Check if in given list of numbers, are any two numbers closer to each other than given threshold.\n",
      "    >>> hasCloseElements(Arrays.asList(1.0, 2.0, 3.0), 0.5)\n",
      "    false\n",
      "    >>> hasCloseElements(Arrays.asList(1.0, 2.8, 3.0, 4.0, 5.0, 2.0), 0.3)\n",
      "    true\n",
      "     */\n",
      "    public boolean hasCloseElements(List<Double> numbers, double threshold) {\n",
      "\n"
     ]
    }
   ],
   "source": [
    "print(PROMPT)"
   ]
  },
  {
   "cell_type": "markdown",
   "id": "cb0d3e7b",
   "metadata": {},
   "source": [
    "## Ask CodeGeeX to generate code"
   ]
  },
  {
   "cell_type": "code",
   "execution_count": 9,
   "id": "f67ff157",
   "metadata": {},
   "outputs": [],
   "source": [
    "import sys\n",
    "from pathlib import Path\n",
    "\n",
    "sys.path.append(str(Path('.').resolve().parents[0]))\n",
    "\n",
    "from codegeex_api import CodeGeeX"
   ]
  },
  {
   "cell_type": "markdown",
   "id": "6a5a5a55",
   "metadata": {},
   "source": [
    "#### <font size=\"7\" color=\"orange\">⚠</font> Do <span style=\"color:red\">NOT</span> submit the config file to GitHub because of security."
   ]
  },
  {
   "cell_type": "code",
   "execution_count": 10,
   "id": "de2d60c6",
   "metadata": {},
   "outputs": [],
   "source": [
    "codegeex_api_config = json.load(open('codegeex_api_config.json', 'r', encoding='utf-8'))"
   ]
  },
  {
   "cell_type": "code",
   "execution_count": 11,
   "id": "2fa8577c",
   "metadata": {},
   "outputs": [
    {
     "data": {
      "text/plain": [
       "{'api_base': 'http://localhost:8080/v1',\n",
       " 'api_version': '2.1.0.0',\n",
       " 'api_type': 'codegeex',\n",
       " 'api_key': 'D4B94CC818A3D8A725CCC8FE68B97'}"
      ]
     },
     "execution_count": 11,
     "metadata": {},
     "output_type": "execute_result"
    }
   ],
   "source": [
    "codegeex_api_config"
   ]
  },
  {
   "cell_type": "markdown",
   "id": "a68be839-09af-4c91-a600-6621d2ac6425",
   "metadata": {},
   "source": [
    "**For \"1.x.x.x\", return string; for \"2.x.x.x\", return json.**"
   ]
  },
  {
   "cell_type": "code",
   "execution_count": 12,
   "id": "07c24a34",
   "metadata": {},
   "outputs": [],
   "source": [
    "m = CodeGeeX(codegeex_api_config)  # model"
   ]
  },
  {
   "cell_type": "code",
   "execution_count": 13,
   "id": "6c288e16",
   "metadata": {},
   "outputs": [],
   "source": [
    "m_return = m(PROMPT)"
   ]
  },
  {
   "cell_type": "code",
   "execution_count": 14,
   "id": "6ba5b674",
   "metadata": {},
   "outputs": [
    {
     "name": "stdout",
     "output_type": "stream",
     "text": [
      "{'stdout': ['        if (numbers == null || numbers.isEmpty()) return false;\\n        if (numbers.size() == 1) return false;\\n        // if the list is empty, return false\\n        if (numbers.size() == 0) return false;\\n        // if the threshold is 0, return false\\n        if (threshold == 0) return false;\\n        // sort the numbers\\n        Collections.sort(numbers);\\n        // the smallest number in the list\\n        double firstElement = numbers.get(0);\\n        // the largest number in the list\\n        double lastElement = numbers.get(numbers.size() - 1);\\n        // return false if the two smallest numbers in the list are closer than the given threshold\\n        if (Math.abs(firstElement - lastElement) < threshold) return false;\\n        // if the second smallest number in the list is closer than the given threshold, return true\\n        if (Math.abs(firstElement - lastElement) < Math.abs(firstElement - numbers.get(1))) return true;\\n        // continue this process until the second largest number in the list is closer than the given threshold\\n        for (int i = 1; i < numbers.size() - 1; i++) {\\n            if (Math.abs(firstElement - numbers.get(i)) < threshold) return true;\\n            if (Math.abs(lastElement - numbers.get(i)) < threshold) return true;\\n        }\\n        // if the largest number in the list is closer than the given threshold, return true\\n        return Math.abs(firstElement - lastElement) < threshold;\\n    }\\n}<|endoftext|>'], 'stderr': '', 'elapsed_time': 16.981456866953522}\n"
     ]
    }
   ],
   "source": [
    "print(m_return)"
   ]
  },
  {
   "cell_type": "code",
   "execution_count": 15,
   "id": "c2a7f35c-0ea8-4c7c-91e7-0ab96247a5ba",
   "metadata": {},
   "outputs": [
    {
     "name": "stdout",
     "output_type": "stream",
     "text": [
      "{\n",
      "    \"elapsed_time\": 16.981456866953522,\n",
      "    \"stderr\": \"\",\n",
      "    \"stdout\": [\n",
      "        \"        if (numbers == null || numbers.isEmpty()) return false;\\n        if (numbers.size() == 1) return false;\\n        // if the list is empty, return false\\n        if (numbers.size() == 0) return false;\\n        // if the threshold is 0, return false\\n        if (threshold == 0) return false;\\n        // sort the numbers\\n        Collections.sort(numbers);\\n        // the smallest number in the list\\n        double firstElement = numbers.get(0);\\n        // the largest number in the list\\n        double lastElement = numbers.get(numbers.size() - 1);\\n        // return false if the two smallest numbers in the list are closer than the given threshold\\n        if (Math.abs(firstElement - lastElement) < threshold) return false;\\n        // if the second smallest number in the list is closer than the given threshold, return true\\n        if (Math.abs(firstElement - lastElement) < Math.abs(firstElement - numbers.get(1))) return true;\\n        // continue this process until the second largest number in the list is closer than the given threshold\\n        for (int i = 1; i < numbers.size() - 1; i++) {\\n            if (Math.abs(firstElement - numbers.get(i)) < threshold) return true;\\n            if (Math.abs(lastElement - numbers.get(i)) < threshold) return true;\\n        }\\n        // if the largest number in the list is closer than the given threshold, return true\\n        return Math.abs(firstElement - lastElement) < threshold;\\n    }\\n}<|endoftext|>\"\n",
      "    ]\n",
      "}\n"
     ]
    }
   ],
   "source": [
    "print(json.dumps(m_return, indent=4, sort_keys=True))"
   ]
  },
  {
   "cell_type": "markdown",
   "id": "cfc9d90b-0c3b-429f-a6a8-b4af817cd0ef",
   "metadata": {},
   "source": [
    "**temperature & top_p**  \n",
    "\n",
    "Ref:  \n",
    "- Zheng, Q., Xia, X., Zou, X., Dong, Y., Wang, S., Xue, Y., Wang, Z., Shen, L., Wang, A., Li, Y. and Su, T., 2023. Codegeex: A pre-trained model for code generation with multilingual evaluations on humaneval-x. *arXiv preprint arXiv:2303.17568*.\n",
    "\n",
    "#### 4.1 Evaluation Settings\n",
    "Page 11:\n",
    "\n",
    "*For CodeGeeX in code generation, we use t = 0:2; p = 0:95 for pass@1 and\n",
    "t = 0:8; p = 0:95 for pass@10 and pass@100 (except for Go and JavaScript, where p = 0:9).*"
   ]
  },
  {
   "cell_type": "code",
   "execution_count": 16,
   "id": "7ad71875-de2a-44b8-a018-526c18ed7d15",
   "metadata": {},
   "outputs": [],
   "source": [
    "m_return = m(PROMPT, temperature=0.2, top_p=0.95)"
   ]
  },
  {
   "cell_type": "code",
   "execution_count": 17,
   "id": "6cffd203-16ac-418e-85f2-a59fc8de5348",
   "metadata": {},
   "outputs": [
    {
     "name": "stdout",
     "output_type": "stream",
     "text": [
      "{\n",
      "    \"elapsed_time\": 4.377203070092946,\n",
      "    \"stderr\": \"\",\n",
      "    \"stdout\": [\n",
      "        \"        if (numbers.size() < 2) return false;\\n        double min = numbers.get(0);\\n        double max = numbers.get(0);\\n        for (double number : numbers) {\\n            if (number < min) min = number;\\n            if (number > max) max = number;\\n        }\\n        return Math.abs(min - max) < threshold;\\n    }\\n}<|endoftext|>\"\n",
      "    ]\n",
      "}\n"
     ]
    }
   ],
   "source": [
    "print(json.dumps(m_return, indent=4, sort_keys=True))"
   ]
  },
  {
   "cell_type": "code",
   "execution_count": 19,
   "id": "d7b49092-f5d9-46fd-9680-a8166e554d75",
   "metadata": {},
   "outputs": [],
   "source": [
    "# verbose=True will let more info print out to the sever's stderr.\n",
    "# However, client will not get these info.\n",
    "\n",
    "m_return = m(PROMPT, verbose=True)"
   ]
  },
  {
   "cell_type": "code",
   "execution_count": 20,
   "id": "481df048-f24a-4517-92ec-c858f37e4f9c",
   "metadata": {},
   "outputs": [
    {
     "name": "stdout",
     "output_type": "stream",
     "text": [
      "{\n",
      "    \"elapsed_time\": 3.5381057471968234,\n",
      "    \"stderr\": \"\",\n",
      "    \"stdout\": [\n",
      "        \"        double min = Double.MAX_VALUE;\\n        double max = Double.MIN_VALUE;\\n        for (double d : numbers) {\\n            min = Math.min(min, d);\\n            max = Math.max(max, d);\\n        }\\n        return (min - max) < threshold;\\n    }\\n}<|endoftext|>\"\n",
      "    ]\n",
      "}\n"
     ]
    }
   ],
   "source": [
    "print(json.dumps(m_return, indent=4, sort_keys=True))"
   ]
  },
  {
   "cell_type": "code",
   "execution_count": 21,
   "id": "9832a68f-c2a0-4b90-a6f2-d0d26574b50f",
   "metadata": {},
   "outputs": [
    {
     "name": "stdout",
     "output_type": "stream",
     "text": [
      "        double min = Double.MAX_VALUE;\n",
      "        double max = Double.MIN_VALUE;\n",
      "        for (double d : numbers) {\n",
      "            min = Math.min(min, d);\n",
      "            max = Math.max(max, d);\n",
      "        }\n",
      "        return (min - max) < threshold;\n",
      "    }\n",
      "}<|endoftext|>\n"
     ]
    }
   ],
   "source": [
    "print(m_return['stdout'][0])"
   ]
  },
  {
   "cell_type": "markdown",
   "id": "32a8749d-afdd-4736-90f3-0f68e66d1cf3",
   "metadata": {},
   "source": [
    "**Run 164 and write to jsonl file**"
   ]
  },
  {
   "cell_type": "code",
   "execution_count": 22,
   "id": "4ec47126-abff-4b47-8a6f-1ed36f4a2908",
   "metadata": {},
   "outputs": [],
   "source": [
    "import datetime"
   ]
  },
  {
   "cell_type": "markdown",
   "id": "b56dae08-70a9-4b58-9ff9-5cc952699cbe",
   "metadata": {},
   "source": [
    " JSON list format. Ref: https://github.com/THUDM/CodeGeeX/blob/main/codegeex/benchmark/README.md#evaluation"
   ]
  },
  {
   "cell_type": "code",
   "execution_count": 23,
   "id": "d49f6de3-626a-469e-bd72-a6cd9296d695",
   "metadata": {},
   "outputs": [],
   "source": [
    "file_name = f'results/java_t02_p095_{datetime.datetime.now()}'.replace(':', '').replace('-', '').replace('.', '_').replace(' ', '_') + '.jsonl'"
   ]
  },
  {
   "cell_type": "code",
   "execution_count": 24,
   "id": "726d6de8-cb86-438d-af70-30a7dfbf2d8f",
   "metadata": {},
   "outputs": [
    {
     "data": {
      "text/plain": [
       "'results/java_t02_p095_20230712_091936_005485.jsonl'"
      ]
     },
     "execution_count": 24,
     "metadata": {},
     "output_type": "execute_result"
    }
   ],
   "source": [
    "file_name"
   ]
  },
  {
   "cell_type": "code",
   "execution_count": 25,
   "id": "dd18cf8d-c756-4085-83fb-066c9d288d78",
   "metadata": {},
   "outputs": [],
   "source": [
    "import time"
   ]
  },
  {
   "cell_type": "code",
   "execution_count": 26,
   "id": "6bca23c2-ac04-4415-9cd9-bda55ed5609c",
   "metadata": {},
   "outputs": [
    {
     "name": "stdout",
     "output_type": "stream",
     "text": [
      "Java/0\n",
      "Java/1\n",
      "Java/2\n",
      "Java/3\n",
      "Java/4\n",
      "Java/5\n",
      "Java/6\n",
      "Java/7\n",
      "Java/8\n",
      "Java/9\n",
      "Java/10\n",
      "Java/11\n",
      "Java/12\n",
      "Java/13\n",
      "Java/14\n",
      "Java/15\n",
      "Java/16\n",
      "Java/17\n",
      "Java/18\n",
      "Java/19\n",
      "Java/20\n",
      "Java/21\n",
      "Java/22\n",
      "Java/23\n",
      "Java/24\n",
      "Java/25\n",
      "Java/26\n",
      "Java/27\n",
      "Java/28\n",
      "Java/29\n",
      "Java/30\n",
      "Java/31\n",
      "Java/32\n",
      "Java/33\n",
      "Java/34\n",
      "Java/35\n",
      "Java/36\n",
      "Java/37\n",
      "Java/38\n",
      "Java/39\n",
      "Java/40\n",
      "Java/41\n",
      "Java/42\n",
      "Java/43\n",
      "Java/44\n",
      "Java/45\n",
      "Java/46\n",
      "Java/47\n",
      "Java/48\n",
      "Java/49\n",
      "Java/50\n",
      "Java/51\n",
      "Java/52\n",
      "Java/53\n",
      "Java/54\n",
      "Java/55\n",
      "Java/56\n",
      "Java/57\n",
      "Java/58\n",
      "Java/59\n",
      "Java/60\n",
      "Java/61\n",
      "Java/62\n",
      "Java/63\n",
      "Java/64\n",
      "Java/65\n",
      "Java/66\n",
      "Java/67\n",
      "Java/68\n",
      "Java/69\n",
      "Java/70\n",
      "Java/71\n",
      "Java/72\n",
      "Java/73\n",
      "Java/74\n",
      "Java/75\n",
      "Java/76\n",
      "Java/77\n",
      "Java/78\n",
      "Java/79\n",
      "Java/80\n",
      "Java/81\n",
      "Java/82\n",
      "Java/83\n",
      "Java/84\n",
      "Java/85\n",
      "Java/86\n",
      "Java/87\n",
      "Java/88\n",
      "Java/89\n",
      "Java/90\n",
      "Java/91\n",
      "Java/92\n",
      "Java/93\n",
      "Java/94\n",
      "Java/95\n",
      "Java/96\n",
      "Java/97\n",
      "Java/98\n",
      "Java/99\n",
      "Java/100\n",
      "Java/101\n",
      "Java/102\n",
      "Java/103\n",
      "Java/104\n",
      "Java/105\n",
      "Java/106\n",
      "Java/107\n",
      "Java/108\n",
      "Java/109\n",
      "Java/110\n",
      "Java/111\n",
      "Java/112\n",
      "Java/113\n",
      "Java/114\n",
      "Java/115\n",
      "Java/116\n",
      "Java/117\n",
      "Java/118\n",
      "Java/119\n",
      "Java/120\n",
      "Java/121\n",
      "Java/122\n",
      "Java/123\n",
      "Java/124\n",
      "Java/125\n",
      "Java/126\n",
      "Java/127\n",
      "Java/128\n",
      "Java/129\n",
      "Java/130\n",
      "Java/131\n",
      "Java/132\n",
      "Java/133\n",
      "Java/134\n",
      "Java/135\n",
      "Java/136\n",
      "Java/137\n",
      "Java/138\n",
      "Java/139\n",
      "Java/140\n",
      "Java/141\n",
      "Java/142\n",
      "Java/143\n",
      "Java/144\n",
      "Java/145\n",
      "Java/146\n",
      "Java/147\n",
      "Java/148\n",
      "Java/149\n",
      "Java/150\n",
      "Java/151\n",
      "Java/152\n",
      "Java/153\n",
      "Java/154\n",
      "Java/155\n",
      "Java/156\n",
      "Java/157\n",
      "Java/158\n",
      "Java/159\n",
      "Java/160\n",
      "Java/161\n",
      "Java/162\n",
      "Java/163\n",
      "164 taske(s), elapsed_time: 4376.485805844888 S, 72.9414300974148 minutes, 1.21569050162358 hours.\n"
     ]
    }
   ],
   "source": [
    "st = time.perf_counter()\n",
    "\n",
    "with open(file_name, 'w') as f:\n",
    "    for i in HEP:\n",
    "        print(i['task_id'])\n",
    "        \n",
    "        # Generate code\n",
    "        # use t = 0:2; p = 0:95 for pass@1\n",
    "        m_return = m(i['prompt'], temperature=0.2, top_p=0.95)\n",
    "        \n",
    "        line = {\n",
    "            'task_id': i['task_id'],\n",
    "            'prompt': i['prompt'],\n",
    "            'generation': m_return['stdout'][0].replace('<|endoftext|>', '')\n",
    "        }\n",
    "\n",
    "        f.write(json.dumps(line))\n",
    "        f.write('\\n')\n",
    "\n",
    "et = time.perf_counter()\n",
    "elapsed_time = et - st\n",
    "print(f'{len(HEP)} taske(s), elapsed_time: {elapsed_time} S, {elapsed_time/60} minutes, {elapsed_time/60/60} hours.')\n"
   ]
  },
  {
   "cell_type": "code",
   "execution_count": null,
   "id": "e5168ca4-0502-4594-8776-86d096b43265",
   "metadata": {},
   "outputs": [],
   "source": []
  }
 ],
 "metadata": {
  "kernelspec": {
   "display_name": "Python 3 (ipykernel)",
   "language": "python",
   "name": "python3"
  },
  "language_info": {
   "codemirror_mode": {
    "name": "ipython",
    "version": 3
   },
   "file_extension": ".py",
   "mimetype": "text/x-python",
   "name": "python",
   "nbconvert_exporter": "python",
   "pygments_lexer": "ipython3",
   "version": "3.8.10"
  }
 },
 "nbformat": 4,
 "nbformat_minor": 5
}
