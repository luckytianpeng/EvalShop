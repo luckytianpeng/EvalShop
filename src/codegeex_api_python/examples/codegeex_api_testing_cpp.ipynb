{
 "cells": [
  {
   "cell_type": "markdown",
   "id": "fcd92436",
   "metadata": {},
   "source": [
    "Ref:  \n",
    "- [LLMs: Get predictions from a language model](https://python.langchain.com/en/latest/getting_started/getting_started.html#llms-get-predictions-from-a-language-model)\n",
    "- [A simple guide to setting the GPT-3 temperature](https://algowriting.medium.com/gpt-3-temperature-setting-101-41200ff0d0be)\n",
    "- [HumanEval-X: A new benchmark for Multilingual Program Synthesis](https://github.com/THUDM/CodeGeeX/blob/main/codegeex/benchmark/README.md)"
   ]
  },
  {
   "cell_type": "markdown",
   "id": "b4dcf5da",
   "metadata": {},
   "source": [
    "## Import HumanEval-X (C Plus Plus)"
   ]
  },
  {
   "cell_type": "code",
   "execution_count": 1,
   "id": "70d1a46e",
   "metadata": {},
   "outputs": [],
   "source": [
    "import json"
   ]
  },
  {
   "cell_type": "code",
   "execution_count": 2,
   "id": "1036ada9",
   "metadata": {},
   "outputs": [],
   "source": [
    "HEP_FILE = 'datasets/HumanEval-X/humaneval_cpp.jsonl'  # Human Evalu Python"
   ]
  },
  {
   "cell_type": "code",
   "execution_count": 3,
   "id": "1d48ade2",
   "metadata": {},
   "outputs": [],
   "source": [
    "HEP = json.loads('[{}]'.format(','.join(list(line.rstrip() for line in open(HEP_FILE, 'r', encoding='utf-8')))))"
   ]
  },
  {
   "cell_type": "code",
   "execution_count": 4,
   "id": "bb1978d0",
   "metadata": {},
   "outputs": [],
   "source": [
    "LANGUAGE = HEP[0]['task_id'].split('/')[0]"
   ]
  },
  {
   "cell_type": "code",
   "execution_count": 5,
   "id": "b116c80c",
   "metadata": {},
   "outputs": [
    {
     "data": {
      "text/plain": [
       "'CPP'"
      ]
     },
     "execution_count": 5,
     "metadata": {},
     "output_type": "execute_result"
    }
   ],
   "source": [
    "LANGUAGE"
   ]
  },
  {
   "cell_type": "code",
   "execution_count": 6,
   "id": "6efecfe4",
   "metadata": {},
   "outputs": [],
   "source": [
    "PROMPT = HEP[0]['prompt']"
   ]
  },
  {
   "cell_type": "code",
   "execution_count": 7,
   "id": "de55b392",
   "metadata": {},
   "outputs": [
    {
     "data": {
      "text/plain": [
       "'/*\\nCheck if in given vector of numbers, are any two numbers closer to each other than\\ngiven threshold.\\n>>> has_close_elements({1.0, 2.0, 3.0}, 0.5)\\nfalse\\n>>> has_close_elements({1.0, 2.8, 3.0, 4.0, 5.0, 2.0}, 0.3)\\ntrue\\n*/\\n#include<stdio.h>\\n#include<vector>\\n#include<math.h>\\nusing namespace std;\\nbool has_close_elements(vector<float> numbers, float threshold){\\n'"
      ]
     },
     "execution_count": 7,
     "metadata": {},
     "output_type": "execute_result"
    }
   ],
   "source": [
    "PROMPT"
   ]
  },
  {
   "cell_type": "code",
   "execution_count": 8,
   "id": "e204b7bc",
   "metadata": {},
   "outputs": [
    {
     "name": "stdout",
     "output_type": "stream",
     "text": [
      "/*\n",
      "Check if in given vector of numbers, are any two numbers closer to each other than\n",
      "given threshold.\n",
      ">>> has_close_elements({1.0, 2.0, 3.0}, 0.5)\n",
      "false\n",
      ">>> has_close_elements({1.0, 2.8, 3.0, 4.0, 5.0, 2.0}, 0.3)\n",
      "true\n",
      "*/\n",
      "#include<stdio.h>\n",
      "#include<vector>\n",
      "#include<math.h>\n",
      "using namespace std;\n",
      "bool has_close_elements(vector<float> numbers, float threshold){\n",
      "\n"
     ]
    }
   ],
   "source": [
    "print(PROMPT)"
   ]
  },
  {
   "cell_type": "markdown",
   "id": "cb0d3e7b",
   "metadata": {},
   "source": [
    "## Ask CodeGeeX to generate code"
   ]
  },
  {
   "cell_type": "code",
   "execution_count": 9,
   "id": "f67ff157",
   "metadata": {},
   "outputs": [],
   "source": [
    "import sys\n",
    "from pathlib import Path\n",
    "\n",
    "sys.path.append(str(Path('.').resolve().parents[0]))\n",
    "\n",
    "from codegeex_api import CodeGeeX"
   ]
  },
  {
   "cell_type": "markdown",
   "id": "6a5a5a55",
   "metadata": {},
   "source": [
    "#### <font size=\"7\" color=\"orange\">⚠</font> Do <span style=\"color:red\">NOT</span> submit the config file to GitHub because of security."
   ]
  },
  {
   "cell_type": "code",
   "execution_count": 10,
   "id": "de2d60c6",
   "metadata": {},
   "outputs": [],
   "source": [
    "codegeex_api_config = json.load(open('codegeex_api_config.json', 'r', encoding='utf-8'))"
   ]
  },
  {
   "cell_type": "code",
   "execution_count": 11,
   "id": "2fa8577c",
   "metadata": {},
   "outputs": [
    {
     "data": {
      "text/plain": [
       "{'api_base': 'http://localhost:8080/v1',\n",
       " 'api_version': '2.1.0.0',\n",
       " 'api_type': 'codegeex',\n",
       " 'api_key': 'D4B94CC818A3D8A725CCC8FE68B97'}"
      ]
     },
     "execution_count": 11,
     "metadata": {},
     "output_type": "execute_result"
    }
   ],
   "source": [
    "codegeex_api_config"
   ]
  },
  {
   "cell_type": "markdown",
   "id": "a68be839-09af-4c91-a600-6621d2ac6425",
   "metadata": {},
   "source": [
    "**For \"1.x.x.x\", return string; for \"2.x.x.x\", return json.**"
   ]
  },
  {
   "cell_type": "code",
   "execution_count": 12,
   "id": "07c24a34",
   "metadata": {},
   "outputs": [],
   "source": [
    "m = CodeGeeX(codegeex_api_config)  # model"
   ]
  },
  {
   "cell_type": "code",
   "execution_count": 13,
   "id": "6c288e16",
   "metadata": {},
   "outputs": [],
   "source": [
    "m_return = m(PROMPT)"
   ]
  },
  {
   "cell_type": "code",
   "execution_count": 14,
   "id": "6ba5b674",
   "metadata": {},
   "outputs": [
    {
     "name": "stdout",
     "output_type": "stream",
     "text": [
      "{'stdout': ['    int size = numbers.size();\\n    if(size == 0)\\n        return false;\\n    for(int i=0; i< size - 1; i++){\\n        for(int j=i+1; j<size; j++){\\n            if(abs(numbers[i] - numbers[j]) < threshold){\\n                return true;\\n            }\\n        }\\n    }\\n    return false;\\n}\\n\\nint main(){\\n    vector<float> numbers;\\n    numbers.push_back(1.0);\\n    numbers.push_back(2.0);\\n    numbers.push_back(3.0);\\n    float threshold = 0.3;\\n    printf(\"%d\\\\n\", has_close_elements(numbers, threshold));\\n    return 0;\\n}\\n<|endoftext|>'], 'stderr': '', 'elapsed_time': 8.755622098688036}\n"
     ]
    }
   ],
   "source": [
    "print(m_return)"
   ]
  },
  {
   "cell_type": "code",
   "execution_count": 15,
   "id": "c2a7f35c-0ea8-4c7c-91e7-0ab96247a5ba",
   "metadata": {},
   "outputs": [
    {
     "name": "stdout",
     "output_type": "stream",
     "text": [
      "{\n",
      "    \"elapsed_time\": 8.755622098688036,\n",
      "    \"stderr\": \"\",\n",
      "    \"stdout\": [\n",
      "        \"    int size = numbers.size();\\n    if(size == 0)\\n        return false;\\n    for(int i=0; i< size - 1; i++){\\n        for(int j=i+1; j<size; j++){\\n            if(abs(numbers[i] - numbers[j]) < threshold){\\n                return true;\\n            }\\n        }\\n    }\\n    return false;\\n}\\n\\nint main(){\\n    vector<float> numbers;\\n    numbers.push_back(1.0);\\n    numbers.push_back(2.0);\\n    numbers.push_back(3.0);\\n    float threshold = 0.3;\\n    printf(\\\"%d\\\\n\\\", has_close_elements(numbers, threshold));\\n    return 0;\\n}\\n<|endoftext|>\"\n",
      "    ]\n",
      "}\n"
     ]
    }
   ],
   "source": [
    "print(json.dumps(m_return, indent=4, sort_keys=True))"
   ]
  },
  {
   "cell_type": "markdown",
   "id": "cfc9d90b-0c3b-429f-a6a8-b4af817cd0ef",
   "metadata": {},
   "source": [
    "**temperature & top_p**  \n",
    "\n",
    "Ref:  \n",
    "- Zheng, Q., Xia, X., Zou, X., Dong, Y., Wang, S., Xue, Y., Wang, Z., Shen, L., Wang, A., Li, Y. and Su, T., 2023. Codegeex: A pre-trained model for code generation with multilingual evaluations on humaneval-x. *arXiv preprint arXiv:2303.17568*.\n",
    "\n",
    "#### 4.1 Evaluation Settings\n",
    "Page 11:\n",
    "\n",
    "*For CodeGeeX in code generation, we use t = 0:2; p = 0:95 for pass@1 and\n",
    "t = 0:8; p = 0:95 for pass@10 and pass@100 (except for Go and JavaScript, where p = 0:9).*"
   ]
  },
  {
   "cell_type": "code",
   "execution_count": 16,
   "id": "7ad71875-de2a-44b8-a018-526c18ed7d15",
   "metadata": {},
   "outputs": [],
   "source": [
    "m_return = m(PROMPT, temperature=0.2, top_p=0.95)"
   ]
  },
  {
   "cell_type": "code",
   "execution_count": 17,
   "id": "6cffd203-16ac-418e-85f2-a59fc8de5348",
   "metadata": {},
   "outputs": [
    {
     "name": "stdout",
     "output_type": "stream",
     "text": [
      "{\n",
      "    \"elapsed_time\": 9.931467335671186,\n",
      "    \"stderr\": \"\",\n",
      "    \"stdout\": [\n",
      "        \"    for(int i=0; i<numbers.size(); i++){\\n        for(int j=i+1; j<numbers.size(); j++){\\n            if(abs(numbers[i]-numbers[j])<threshold)\\n                return true;\\n        }\\n    }\\n    return false;\\n}\\n\\nint main(){\\n    vector<float> numbers;\\n    numbers.push_back(1.0);\\n    numbers.push_back(2.0);\\n    numbers.push_back(3.0);\\n    numbers.push_back(4.0);\\n    numbers.push_back(5.0);\\n    numbers.push_back(2.0);\\n    float threshold = 0.3;\\n    printf(\\\"%s\\\\n\\\", has_close_elements(numbers, threshold)? \\\"true\\\" : \\\"false\\\");\\n    return 0;\\n}\\n<|endoftext|>\"\n",
      "    ]\n",
      "}\n"
     ]
    }
   ],
   "source": [
    "print(json.dumps(m_return, indent=4, sort_keys=True))"
   ]
  },
  {
   "cell_type": "code",
   "execution_count": 18,
   "id": "d7b49092-f5d9-46fd-9680-a8166e554d75",
   "metadata": {},
   "outputs": [],
   "source": [
    "# verbose=True will let more info print out to the sever's stderr.\n",
    "# However, client will not get these info.\n",
    "\n",
    "m_return = m(PROMPT, verbose=True)"
   ]
  },
  {
   "cell_type": "code",
   "execution_count": 19,
   "id": "481df048-f24a-4517-92ec-c858f37e4f9c",
   "metadata": {},
   "outputs": [
    {
     "name": "stdout",
     "output_type": "stream",
     "text": [
      "{\n",
      "    \"elapsed_time\": 12.661359043326229,\n",
      "    \"stderr\": \"\",\n",
      "    \"stdout\": [\n",
      "        \"\\tbool is_close = false;\\n\\tfor(int i = 0; i< numbers.size(); ++i){\\n\\t\\tfor(int j = i+1; j< numbers.size(); ++j){\\n\\t\\t\\tif(abs(numbers[i]-numbers[j]) < threshold){\\n\\t\\t\\t\\tis_close = true;\\n\\t\\t\\t\\tbreak;\\n\\t\\t\\t}\\n\\t\\t}\\n\\t\\tif(is_close) break;\\n\\t}\\n\\treturn is_close;\\n}\\nint main() {\\n\\tvector<float> vec1 = {1.0,2.0,3.0};\\n\\tvector<float> vec2 = {1.0,2.8,3.0,4.0,5.0,2.0};\\n\\tvector<float> vec3 = {-1.0,-2.0,-3.0};\\n\\tprintf(\\\"%d\\\\n\\\", has_close_elements(vec1,0.3));\\n\\tprintf(\\\"%d\\\\n\\\", has_close_elements(vec2,0.3));\\n\\tprintf(\\\"%d\\\\n\\\", has_close_elements(vec3,0.3));\\n}\\n<|endoftext|>\"\n",
      "    ]\n",
      "}\n"
     ]
    }
   ],
   "source": [
    "print(json.dumps(m_return, indent=4, sort_keys=True))"
   ]
  },
  {
   "cell_type": "code",
   "execution_count": 20,
   "id": "9832a68f-c2a0-4b90-a6f2-d0d26574b50f",
   "metadata": {},
   "outputs": [
    {
     "name": "stdout",
     "output_type": "stream",
     "text": [
      "\tbool is_close = false;\n",
      "\tfor(int i = 0; i< numbers.size(); ++i){\n",
      "\t\tfor(int j = i+1; j< numbers.size(); ++j){\n",
      "\t\t\tif(abs(numbers[i]-numbers[j]) < threshold){\n",
      "\t\t\t\tis_close = true;\n",
      "\t\t\t\tbreak;\n",
      "\t\t\t}\n",
      "\t\t}\n",
      "\t\tif(is_close) break;\n",
      "\t}\n",
      "\treturn is_close;\n",
      "}\n",
      "int main() {\n",
      "\tvector<float> vec1 = {1.0,2.0,3.0};\n",
      "\tvector<float> vec2 = {1.0,2.8,3.0,4.0,5.0,2.0};\n",
      "\tvector<float> vec3 = {-1.0,-2.0,-3.0};\n",
      "\tprintf(\"%d\\n\", has_close_elements(vec1,0.3));\n",
      "\tprintf(\"%d\\n\", has_close_elements(vec2,0.3));\n",
      "\tprintf(\"%d\\n\", has_close_elements(vec3,0.3));\n",
      "}\n",
      "<|endoftext|>\n"
     ]
    }
   ],
   "source": [
    "print(m_return['stdout'][0])"
   ]
  },
  {
   "cell_type": "markdown",
   "id": "32a8749d-afdd-4736-90f3-0f68e66d1cf3",
   "metadata": {},
   "source": [
    "**Run 164 and write to jsonl file**"
   ]
  },
  {
   "cell_type": "code",
   "execution_count": 21,
   "id": "4ec47126-abff-4b47-8a6f-1ed36f4a2908",
   "metadata": {},
   "outputs": [],
   "source": [
    "import datetime"
   ]
  },
  {
   "cell_type": "markdown",
   "id": "b56dae08-70a9-4b58-9ff9-5cc952699cbe",
   "metadata": {},
   "source": [
    " JSON list format. Ref: https://github.com/THUDM/CodeGeeX/blob/main/codegeex/benchmark/README.md#evaluation"
   ]
  },
  {
   "cell_type": "code",
   "execution_count": 22,
   "id": "d49f6de3-626a-469e-bd72-a6cd9296d695",
   "metadata": {},
   "outputs": [],
   "source": [
    "file_name = f'results/cpp_t02_p095_{datetime.datetime.now()}'.replace(':', '').replace('-', '').replace('.', '_').replace(' ', '_') + '.jsonl'"
   ]
  },
  {
   "cell_type": "code",
   "execution_count": 23,
   "id": "726d6de8-cb86-438d-af70-30a7dfbf2d8f",
   "metadata": {},
   "outputs": [
    {
     "data": {
      "text/plain": [
       "'results/cpp_t02_p095_20230712_081121_397034.jsonl'"
      ]
     },
     "execution_count": 23,
     "metadata": {},
     "output_type": "execute_result"
    }
   ],
   "source": [
    "file_name"
   ]
  },
  {
   "cell_type": "code",
   "execution_count": 24,
   "id": "dd18cf8d-c756-4085-83fb-066c9d288d78",
   "metadata": {},
   "outputs": [],
   "source": [
    "import time"
   ]
  },
  {
   "cell_type": "code",
   "execution_count": 25,
   "id": "6bca23c2-ac04-4415-9cd9-bda55ed5609c",
   "metadata": {},
   "outputs": [
    {
     "name": "stdout",
     "output_type": "stream",
     "text": [
      "CPP/0\n",
      "CPP/1\n",
      "CPP/2\n",
      "CPP/3\n",
      "CPP/4\n",
      "CPP/5\n",
      "CPP/6\n",
      "CPP/7\n",
      "CPP/8\n",
      "CPP/9\n",
      "CPP/10\n",
      "CPP/11\n",
      "CPP/12\n",
      "CPP/13\n",
      "CPP/14\n",
      "CPP/15\n",
      "CPP/16\n",
      "CPP/17\n",
      "CPP/18\n",
      "CPP/19\n",
      "CPP/20\n",
      "CPP/21\n",
      "CPP/22\n",
      "CPP/23\n",
      "CPP/24\n",
      "CPP/25\n",
      "CPP/26\n",
      "CPP/27\n",
      "CPP/28\n",
      "CPP/29\n",
      "CPP/30\n",
      "CPP/31\n",
      "CPP/32\n",
      "CPP/33\n",
      "CPP/34\n",
      "CPP/35\n",
      "CPP/36\n",
      "CPP/37\n",
      "CPP/38\n",
      "CPP/39\n",
      "CPP/40\n",
      "CPP/41\n",
      "CPP/42\n",
      "CPP/43\n",
      "CPP/44\n",
      "CPP/45\n",
      "CPP/46\n",
      "CPP/47\n",
      "CPP/48\n",
      "CPP/49\n",
      "CPP/50\n",
      "CPP/51\n",
      "CPP/52\n",
      "CPP/53\n",
      "CPP/54\n",
      "CPP/55\n",
      "CPP/56\n",
      "CPP/57\n",
      "CPP/58\n",
      "CPP/59\n",
      "CPP/60\n",
      "CPP/61\n",
      "CPP/62\n",
      "CPP/63\n",
      "CPP/64\n",
      "CPP/65\n",
      "CPP/66\n",
      "CPP/67\n",
      "CPP/68\n",
      "CPP/69\n",
      "CPP/70\n",
      "CPP/71\n",
      "CPP/72\n",
      "CPP/73\n",
      "CPP/74\n",
      "CPP/75\n",
      "CPP/76\n",
      "CPP/77\n",
      "CPP/78\n",
      "CPP/79\n",
      "CPP/80\n",
      "CPP/81\n",
      "CPP/82\n",
      "CPP/83\n",
      "CPP/84\n",
      "CPP/85\n",
      "CPP/86\n",
      "CPP/87\n",
      "CPP/88\n",
      "CPP/89\n",
      "CPP/90\n",
      "CPP/91\n",
      "CPP/92\n",
      "CPP/93\n",
      "CPP/94\n",
      "CPP/95\n",
      "CPP/96\n",
      "CPP/97\n",
      "CPP/98\n",
      "CPP/99\n",
      "CPP/100\n",
      "CPP/101\n",
      "CPP/102\n",
      "CPP/103\n",
      "CPP/104\n",
      "CPP/105\n",
      "CPP/106\n",
      "CPP/107\n",
      "CPP/108\n",
      "CPP/109\n",
      "CPP/110\n",
      "CPP/111\n",
      "CPP/112\n",
      "CPP/113\n",
      "CPP/114\n",
      "CPP/115\n",
      "CPP/116\n",
      "CPP/117\n",
      "CPP/118\n",
      "CPP/119\n",
      "CPP/120\n",
      "CPP/121\n",
      "CPP/122\n",
      "CPP/123\n",
      "CPP/124\n",
      "CPP/125\n",
      "CPP/126\n",
      "CPP/127\n",
      "CPP/128\n",
      "CPP/129\n",
      "CPP/130\n",
      "CPP/131\n",
      "CPP/132\n",
      "CPP/133\n",
      "CPP/134\n",
      "CPP/135\n",
      "CPP/136\n",
      "CPP/137\n",
      "CPP/138\n",
      "CPP/139\n",
      "CPP/140\n",
      "CPP/141\n",
      "CPP/142\n",
      "CPP/143\n",
      "CPP/144\n",
      "CPP/145\n",
      "CPP/146\n",
      "CPP/147\n",
      "CPP/148\n",
      "CPP/149\n",
      "CPP/150\n",
      "CPP/151\n",
      "CPP/152\n",
      "CPP/153\n",
      "CPP/154\n",
      "CPP/155\n",
      "CPP/156\n",
      "CPP/157\n",
      "CPP/158\n",
      "CPP/159\n",
      "CPP/160\n",
      "CPP/161\n",
      "CPP/162\n",
      "CPP/163\n",
      "164 taske(s), elapsed_time: 3308.478460904211 S, 55.14130768173685 minutes, 0.9190217946956142 hours.\n"
     ]
    }
   ],
   "source": [
    "st = time.perf_counter()\n",
    "\n",
    "with open(file_name, 'w') as f:\n",
    "    for i in HEP:\n",
    "        print(i['task_id'])\n",
    "        \n",
    "        # Generate code\n",
    "        # use t = 0:2; p = 0:95 for pass@1\n",
    "        m_return = m(i['prompt'], temperature=0.2, top_p=0.95)\n",
    "        \n",
    "        line = {\n",
    "            'task_id': i['task_id'],\n",
    "            'prompt': i['prompt'],\n",
    "            'generation': m_return['stdout'][0].replace('<|endoftext|>', '')\n",
    "        }\n",
    "\n",
    "        f.write(json.dumps(line))\n",
    "        f.write('\\n')\n",
    "\n",
    "et = time.perf_counter()\n",
    "elapsed_time = et - st\n",
    "print(f'{len(HEP)} taske(s), elapsed_time: {elapsed_time} S, {elapsed_time/60} minutes, {elapsed_time/60/60} hours.')\n"
   ]
  },
  {
   "cell_type": "code",
   "execution_count": null,
   "id": "e5168ca4-0502-4594-8776-86d096b43265",
   "metadata": {},
   "outputs": [],
   "source": []
  }
 ],
 "metadata": {
  "kernelspec": {
   "display_name": "Python 3 (ipykernel)",
   "language": "python",
   "name": "python3"
  },
  "language_info": {
   "codemirror_mode": {
    "name": "ipython",
    "version": 3
   },
   "file_extension": ".py",
   "mimetype": "text/x-python",
   "name": "python",
   "nbconvert_exporter": "python",
   "pygments_lexer": "ipython3",
   "version": "3.8.10"
  }
 },
 "nbformat": 4,
 "nbformat_minor": 5
}
