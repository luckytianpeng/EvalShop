{
 "cells": [
  {
   "cell_type": "code",
   "execution_count": 1,
   "id": "e41a0f16",
   "metadata": {},
   "outputs": [],
   "source": [
    "import json\n",
    "import time"
   ]
  },
  {
   "cell_type": "code",
   "execution_count": 2,
   "id": "37aca840",
   "metadata": {},
   "outputs": [],
   "source": [
    "# 'python t 02 p 095 2023-05-31 14-05-46 506657.jsonl'    '32/164=0.1951219512195122'\n",
    "# 'cpp t 02 p 095 2023-06-01 07-28-25 393994.jsonl'       '33/164=0.20121951219512196'\n",
    "# 'java t 02 p 095 2023-06-01 05-56-30 654349.jsonl'      '30/164=0.18292682926829268'\n",
    "\n",
    "# python t 02 p 095 2023-07-11 10-48-23 558129.jsonl    '32/164=0.1951219512195122'\n",
    "# cpp t 02 p 095 2023-07-11 13-18-31 246587.jsonl       '33/164=0.20121951219512196'\n",
    "# java t 02 p 095 2023-07-11 14-21-49 229676.jsonl      '26/164=0.15853658536585366'\n",
    "# java t 02 p 095 2023-07-11 15-56-29 066461.jsonl      '27/164=0.16463414634146342'\n",
    "\n",
    "# cpp_t02_p095_20230712_081121_397034.jsonl     '28/164=0.17073170731707318'\n",
    "# java_t02_p095_20230712_091936_005485.jsonl    '31/164=0.18902439024390244'\n",
    "# python_t02_p095_20230712_104047_994438.jsonl  '27/164=0.16463414634146342'\n",
    "\n",
    "# cpp_t02_p095_20230713_073430_732461.jsonl    '27/164=0.16463414634146342'\n",
    "# java_t02_p095_20230713_082904_987862.jsonl   '29/164=0.17682926829268292'\n",
    "# python_t02_p095_20230713_095221_622978.jsonl '33/164=0.20121951219512196'\n",
    "\n",
    "results_file = './datasets/java t 02 p 095 2023-07-11 14-21-49 229676.jsonl'\n",
    "results_json = json.loads(\n",
    "        '[{}]'.format(\n",
    "            ','.join(\n",
    "                list(\n",
    "                    line.rstrip() for line in \n",
    "                    open(results_file, 'r', encoding='utf-8')))))\n"
   ]
  },
  {
   "cell_type": "code",
   "execution_count": 3,
   "id": "e651455e",
   "metadata": {},
   "outputs": [],
   "source": [
    "# print(json.dumps(results_json, indent=4, sort_keys=True))"
   ]
  },
  {
   "cell_type": "markdown",
   "id": "50ffbeed",
   "metadata": {},
   "source": [
    "## Ask HumanEvalX Server to evaluate"
   ]
  },
  {
   "cell_type": "code",
   "execution_count": 5,
   "id": "a7a32998",
   "metadata": {},
   "outputs": [],
   "source": [
    "import sys\n",
    "from pathlib import Path\n",
    "\n",
    "sys.path.append(str(Path('..').resolve()))\n",
    "from humaneval_x_api import HumanEvalX"
   ]
  },
  {
   "cell_type": "code",
   "execution_count": 6,
   "id": "19903e92",
   "metadata": {},
   "outputs": [],
   "source": [
    "config = json.load(open('humanevl_x_api_config.json', 'r', encoding='utf-8'))"
   ]
  },
  {
   "cell_type": "code",
   "execution_count": 7,
   "id": "36e7cb1e",
   "metadata": {},
   "outputs": [
    {
     "data": {
      "text/plain": [
       "{'api_base': 'http://127.0.0.1:8088/v2',\n",
       " 'api_version': '2.1.0.0',\n",
       " 'api_type': 'HumanEval-X-Evaluation',\n",
       " 'api_key': '8EA3D62222ACAA5315A1ED6B3F883'}"
      ]
     },
     "execution_count": 7,
     "metadata": {},
     "output_type": "execute_result"
    }
   ],
   "source": [
    "config"
   ]
  },
  {
   "cell_type": "code",
   "execution_count": 8,
   "id": "1ea5ea00",
   "metadata": {},
   "outputs": [],
   "source": [
    "s = HumanEvalX(config)  # Server"
   ]
  },
  {
   "cell_type": "code",
   "execution_count": 9,
   "id": "b2b35968",
   "metadata": {},
   "outputs": [],
   "source": [
    "st = time.time()\n",
    "\n",
    "# results = s(testing_json['generated_codes'])\n",
    "results = s(results_json)\n",
    "\n",
    "et = time.time()\n",
    "elapsed_time = et - st"
   ]
  },
  {
   "cell_type": "code",
   "execution_count": 10,
   "id": "eba5b1f7",
   "metadata": {},
   "outputs": [
    {
     "data": {
      "text/plain": [
       "'139.25341391563416 Seconds'"
      ]
     },
     "execution_count": 10,
     "metadata": {},
     "output_type": "execute_result"
    }
   ],
   "source": [
    "f'{elapsed_time} Seconds'"
   ]
  },
  {
   "cell_type": "code",
   "execution_count": 11,
   "id": "b0f043db",
   "metadata": {
    "scrolled": false
   },
   "outputs": [],
   "source": [
    "# print(json.dumps(results, indent=4, sort_keys=True))"
   ]
  },
  {
   "cell_type": "code",
   "execution_count": 12,
   "id": "02f4426a",
   "metadata": {},
   "outputs": [
    {
     "data": {
      "text/plain": [
       "'26/164=0.15853658536585366'"
      ]
     },
     "execution_count": 12,
     "metadata": {},
     "output_type": "execute_result"
    }
   ],
   "source": [
    "total = 0\n",
    "passed = 0\n",
    "\n",
    "for generated_code in results['generated_codes']:\n",
    "    total = total + 1\n",
    "    if 'compile' in generated_code\\\n",
    "            and 'stderr' in generated_code['compile']\\\n",
    "            and not generated_code['compile']['stderr']\\\n",
    "            and 'execute' in generated_code\\\n",
    "            and 'stderr' in generated_code['execute']\\\n",
    "            and not generated_code['execute']['stderr']:\n",
    "        # has no err in compiling stage\n",
    "        # has no err in execution stage\n",
    "        passed = passed + 1\n",
    "        \n",
    "f'{passed}/{total}={passed/total}'"
   ]
  },
  {
   "cell_type": "code",
   "execution_count": null,
   "id": "90de68c5",
   "metadata": {},
   "outputs": [],
   "source": [
    "g_c = results['generated_codes'][0]"
   ]
  },
  {
   "cell_type": "code",
   "execution_count": null,
   "id": "02498460",
   "metadata": {},
   "outputs": [],
   "source": [
    "print(g_c)"
   ]
  },
  {
   "cell_type": "code",
   "execution_count": null,
   "id": "90a63465",
   "metadata": {},
   "outputs": [],
   "source": [
    "from IPython.display import display, Markdown, Latex"
   ]
  },
  {
   "cell_type": "code",
   "execution_count": null,
   "id": "5f8ef28e",
   "metadata": {},
   "outputs": [],
   "source": [
    "for i in results['generated_codes']:\n",
    "    for k in i.keys():\n",
    "        if k == 'generation' or True:\n",
    "            display(Markdown('**{}**:  \\n'.format(k)))\n",
    "            print(i[k])\n",
    "    print('=' * 80)"
   ]
  },
  {
   "cell_type": "code",
   "execution_count": null,
   "id": "527110cf",
   "metadata": {},
   "outputs": [],
   "source": []
  }
 ],
 "metadata": {
  "kernelspec": {
   "display_name": "Python 3 (ipykernel)",
   "language": "python",
   "name": "python3"
  },
  "language_info": {
   "codemirror_mode": {
    "name": "ipython",
    "version": 3
   },
   "file_extension": ".py",
   "mimetype": "text/x-python",
   "name": "python",
   "nbconvert_exporter": "python",
   "pygments_lexer": "ipython3",
   "version": "3.6.9"
  }
 },
 "nbformat": 4,
 "nbformat_minor": 5
}
